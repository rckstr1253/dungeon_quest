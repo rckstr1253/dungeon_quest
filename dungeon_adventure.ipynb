{
 "cells": [
  {
   "cell_type": "markdown",
   "id": "54471718",
   "metadata": {},
   "source": [
    "# Dungeon Adventure Game - Instructions\n",
    "\n",
    "In this exercise, you will build a text-based dungeon adventure game in Python.\n",
    "\n",
    "You will apply everything you've learned so far, including:\n",
    "- Variables\n",
    "- Operators\n",
    "- Lists\n",
    "- Dictionaries\n",
    "- Loops\n",
    "- Conditionals\n",
    "- The `random` module\n",
    "\n",
    "Follow the prompts in each section to build your game step by step. By the end, you will have a fully functioning game where the player can explore rooms, search for treasure, avoid traps, and see their final score based on the treasures collected.\n",
    "\n",
    "Complete each section before moving on to the next.\n"
   ]
  },
  {
   "cell_type": "code",
   "execution_count": 40,
   "id": "eee84ad5",
   "metadata": {},
   "outputs": [
    {
     "name": "stdout",
     "output_type": "stream",
     "text": [
      "hellow adventurer, welcome to the dungeon!\n",
      "welcome, david - good luck!\n",
      "david 10 []\n"
     ]
    }
   ],
   "source": [
    "# Step 1: Player Setup\n",
    "# Prompt the player for their name.\n",
    "# Set health to 10.\n",
    "# Create an empty list to store their inventory.\n",
    "print(\"hellow adventurer, welcome to the dungeon!\")\n",
    "player_name = input(\"what is your name?\")\n",
    "print(f\"welcome, {player_name} - good luck!\")\n",
    "health = 10\n",
    "inventory = []\n",
    "treasure_list = [\"gold necklace\", \"bouquet of flowers\", \"magical sword\", \"pack of gum\"]\n",
    "print(player_name, health, inventory)"
   ]
  },
  {
   "cell_type": "code",
   "execution_count": 41,
   "id": "3a0aecec",
   "metadata": {},
   "outputs": [],
   "source": [
    "# Step 2: Treasure Dictionary\n",
    "# Create a dictionary of treasures where the keys are treasure names\n",
    "# and the values are the gold value of each treasure.\n",
    "treasures = {\n",
    "    \"gold necklace\": 500,\n",
    "    \"bouquet of flowers\": 25,\n",
    "    \"magical sword\": 420,\n",
    "    \"pack of gum\": 10\n",
    "}\n",
    "\n",
    "treasure_list = list(treasures.keys())"
   ]
  },
  {
   "cell_type": "code",
   "execution_count": 43,
   "id": "1a24ddaf",
   "metadata": {},
   "outputs": [
    {
     "name": "stdout",
     "output_type": "stream",
     "text": [
      "\n",
      "You are now in room 1. What would you like to do?\n",
      "1. Search for treasure\n",
      "2. Move to next room\n",
      "3. Check health and inventory\n",
      "4. Quit the game\n",
      "You move to the next room...\n",
      "\n",
      "You are now in room 2. What would you like to do?\n",
      "1. Search for treasure\n",
      "2. Move to next room\n",
      "3. Check health and inventory\n",
      "4. Quit the game\n",
      "You move to the next room...\n",
      "\n",
      "You are now in room 3. What would you like to do?\n",
      "1. Search for treasure\n",
      "2. Move to next room\n",
      "3. Check health and inventory\n",
      "4. Quit the game\n",
      "Your current health is: 10\n",
      "Your inventory is empty.\n",
      "\n",
      "You are now in room 4. What would you like to do?\n",
      "1. Search for treasure\n",
      "2. Move to next room\n",
      "3. Check health and inventory\n",
      "4. Quit the game\n",
      "You quit the game. Goodbye!\n",
      "\n",
      "Game over.\n"
     ]
    }
   ],
   "source": [
    "# Step 3: Game Loop - Moving through 5 rooms\n",
    "# Use a for loop to represent rooms 1 to 5.\n",
    "# In each room, display the current room number and the options:\n",
    "# 1. Search for treasure\n",
    "# 2. Move to next room\n",
    "# 3. Check health and inventory\n",
    "# 4. Quit the game\n",
    "# Make sure to handle each option appropriately.\n",
    "\n",
    "for room in range(1, 6):\n",
    "    print(f\"\\nYou are now in room {room}. What would you like to do?\")\n",
    "    print(\"1. Search for treasure\\n2. Move to next room\\n3. Check health and inventory\\n4. Quit the game\")\n",
    "    player_choice = input(\"Choose a number (1-4): \")\n",
    "\n",
    "    if player_choice == \"1\":\n",
    "        # Search for treasure\n",
    "        outcome = random.choice([\"treasure\", \"trap\"])\n",
    "        if outcome == \"treasure\":\n",
    "            found_treasure = random.choice(treasure_list)\n",
    "            inventory.append(found_treasure)\n",
    "            print(f\"You found a {found_treasure} worth {treasures[found_treasure]} gold!\")\n",
    "        else:\n",
    "            health -= 2\n",
    "            print(f\"You fell into a trap and lost 2 health points! Your health is now {health}.\")\n",
    "        if health <= 0:\n",
    "            print(\"You've lost all your health! Game over.\")\n",
    "            break\n",
    "\n",
    "    elif player_choice == \"2\":\n",
    "        # Move to next room\n",
    "        print(\"You move to the next room...\")\n",
    "\n",
    "    elif player_choice == \"3\":\n",
    "        # Check health and inventory\n",
    "        print(f\"Your current health is: {health}\")\n",
    "        if inventory:\n",
    "            print(\"Your current inventory:\", \", \".join(inventory))\n",
    "        else:\n",
    "            print(\"Your inventory is empty.\")\n",
    "\n",
    "    elif player_choice == \"4\":\n",
    "        print(\"You quit the game. Goodbye!\")\n",
    "        break\n",
    "\n",
    "    else:\n",
    "        print(\"Invalid choice! Please enter a number from 1 to 4.\")\n",
    "\n",
    "print(\"\\nGame over.\")\n",
    "# Step 4: Implement treasure search\n",
    "# If the player chooses to search, randomly decide if they find treasure or a trap.\n",
    "# If treasure, randomly pick from the treasure dictionary and add to inventory.\n",
    "# If trap, deduct 2 health points and print a message.\n",
    "\n",
    "\n",
    "# Step 5: Check health\n",
    "# If health drops to 0 or below, print a Game Over message and break the loop."
   ]
  },
  {
   "cell_type": "code",
   "execution_count": 32,
   "id": "39cc69d2",
   "metadata": {},
   "outputs": [
    {
     "name": "stdout",
     "output_type": "stream",
     "text": [
      "game is over, david!  You have ended with:\n",
      "health of 10\n",
      "Inventory of: \n",
      "Valuing: 0 gold!\n"
     ]
    }
   ],
   "source": [
    "# Step 6: End of Game Summary\n",
    "# If the player quits or finishes all rooms, calculate the total value of the collected treasures.\n",
    "# Loop through the inventory and sum the gold value using the treasure dictionary.\n",
    "# Print the final health, inventory, and total treasure value.\n",
    "inventory_value = 0\n",
    "for item in inventory:\n",
    "    inventory_value += treasures[item]\n",
    "inventory_set = set(inventory)\n",
    "overall_inventory = \", \".join(inventory_set)\n",
    "print(f\"game is over, {player_name}!  You have ended with:\\nhealth of {health}\\nInventory of: {overall_inventory}\\nValuing: {inventory_value} gold!\")"
   ]
  }
 ],
 "metadata": {
  "kernelspec": {
   "display_name": "Python 3",
   "language": "python",
   "name": "python3"
  },
  "language_info": {
   "codemirror_mode": {
    "name": "ipython",
    "version": 3
   },
   "file_extension": ".py",
   "mimetype": "text/x-python",
   "name": "python",
   "nbconvert_exporter": "python",
   "pygments_lexer": "ipython3",
   "version": "3.13.5"
  }
 },
 "nbformat": 4,
 "nbformat_minor": 5
}
